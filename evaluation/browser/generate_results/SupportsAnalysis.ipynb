{
 "cells": [
  {
   "cell_type": "markdown",
   "id": "7aacc635",
   "metadata": {},
   "source": [
    "# CSS @supports Analysis"
   ]
  },
  {
   "cell_type": "code",
   "execution_count": 53,
   "id": "0a61a9e4",
   "metadata": {},
   "outputs": [],
   "source": [
    "import os\n",
    "import json\n",
    "import pprint"
   ]
  },
  {
   "cell_type": "code",
   "execution_count": 54,
   "id": "bf940ac2",
   "metadata": {},
   "outputs": [
    {
     "name": "stdout",
     "output_type": "stream",
     "text": [
      "['chrome', 'firefox', 'safari']\n",
      "Number of Releases: 30\n"
     ]
    }
   ],
   "source": [
    "# https://github.com/mdn/browser-compat-data/blob/main/schemas/compat-data-schema.md\n",
    "\n",
    "browser_to_release_to_features = dict()\n",
    "last_n_browsers = 10\n",
    "skips = 0\n",
    "flag_features = set()\n",
    "\n",
    "filepath = 'browser-compat-data.json'\n",
    "with open(filepath, 'r') as file:\n",
    "    data = json.load(file)\n",
    "    \n",
    "    browsers = set(data['browsers'].keys())\n",
    "    browsers.remove('deno')\n",
    "    browsers.remove('nodejs')\n",
    "    browsers.remove('oculus')\n",
    "    browsers = ['chrome', 'firefox', 'safari']\n",
    "    pprint.pprint(browsers)\n",
    "\n",
    "    num_releases = 0\n",
    "    # setup releases in correct order\n",
    "    browser_to_release_order = dict()\n",
    "    for browser in browsers:\n",
    "        with open(f\"browser-compat-data-browsers/{browser}.json\", 'r') as browser_file:\n",
    "            browser_data = json.load(browser_file)\n",
    "            browser_data = browser_data['browsers'][browser]\n",
    "        releases = list(browser_data['releases'].keys())[-last_n_browsers:]\n",
    "        num_releases += len(releases)\n",
    "\n",
    "        browser_to_release_to_features[browser] = { v: set() for v in releases }\n",
    "        browser_to_release_order[browser] = list(releases)\n",
    "    \n",
    "    print(f\"Number of Releases: {num_releases}\")\n",
    "    # iterate properties and update all releases that support a prop\n",
    "    features = [('properties', x) for x in data['css']['properties'].keys()] + [('at-rules', x) for x in data['css']['at-rules'].keys()]  + [('selectors', x) for x in data['css']['selectors'].keys()] + [('types', x) for x in data['css']['types'].keys()]\n",
    "    for category, prop in features:\n",
    "        all_supports = [(prop, data['css'][category][prop]['__compat']['support'])]\n",
    "        for sub_prop in data['css'][category][prop]:\n",
    "            if sub_prop == \"__compat\":\n",
    "                continue\n",
    "            all_supports.append((sub_prop, data['css'][category][prop][sub_prop]['__compat']['support']))\n",
    "\n",
    "        for clear_name, support in all_supports:\n",
    "            for browser in browsers:\n",
    "                browser_support_ranges = support[browser]\n",
    "                if not isinstance(browser_support_ranges, list):\n",
    "                    browser_support_ranges = [browser_support_ranges]\n",
    "                \n",
    "                for browser_support in browser_support_ranges:\n",
    "                    if 'prefix' in browser_support:\n",
    "                        clear_name = browser_support['prefix'] + prop\n",
    "                    if 'alternative_name' in browser_support:\n",
    "                        clear_name = browser_support['alternative_name']\n",
    "\n",
    "                    if browser_support['version_added'] == False:\n",
    "                        continue\n",
    "                    if browser_support['version_added'] == 'preview':\n",
    "                        skips += 1\n",
    "                        continue\n",
    "                    if browser_support['version_added'] == True:\n",
    "                        # TODO: what should we do in this case? (i.e., unknown version)\n",
    "                        skips += 1\n",
    "                        continue\n",
    "                    if \"flags\" in browser_support:\n",
    "                        # TODO: feature enabled or disabled by flag\n",
    "                        flag_features.add(clear_name)\n",
    "                        skips += 1\n",
    "                        continue\n",
    "                    start = browser_support['version_added']\n",
    "                    start = start.replace(\"≤\", \"\")\n",
    "                    \n",
    "                    end = None\n",
    "                    if 'release_removed' in browser_support and browser_support['release_removed'] != False:\n",
    "                        end = browser_support['release_removed']\n",
    "                        end = end.replace(\"≤\", \"\")\n",
    "\n",
    "                    if start not in browser_to_release_to_features[browser]:\n",
    "                        continue\n",
    "\n",
    "                    # add to all supported versions\n",
    "                    supported = False\n",
    "                    for release in browser_to_release_to_features[browser]:\n",
    "                        if release == start:\n",
    "                            supported = True\n",
    "                        if release == end:\n",
    "                            supported == False\n",
    "                        if supported:\n",
    "                            browser_to_release_to_features[browser][release].add(clear_name)"
   ]
  },
  {
   "cell_type": "code",
   "execution_count": 55,
   "id": "19e3037d",
   "metadata": {},
   "outputs": [],
   "source": [
    "unique_set_to_releases = dict()\n",
    "\n",
    "# generate clusters\n",
    "for browser in browser_to_release_to_features:\n",
    "    for release in browser_to_release_to_features[browser]:\n",
    "        props = frozenset(browser_to_release_to_features[browser][release])\n",
    "        if props not in unique_set_to_releases:\n",
    "            unique_set_to_releases[props] = set()\n",
    "        unique_set_to_releases[props].add(f\"{browser} {release}\")"
   ]
  },
  {
   "cell_type": "code",
   "execution_count": 56,
   "id": "db67e8f8",
   "metadata": {},
   "outputs": [],
   "source": [
    "clusters = set()\n",
    "for unique in unique_set_to_releases:\n",
    "    clusters.add(tuple(unique_set_to_releases[unique]))\n",
    "\n",
    "pretty_clusters = sorted(sorted(list(map(lambda x: sorted(x), clusters)), key=lambda x: len(x), reverse=True), key=lambda x: x[0])"
   ]
  },
  {
   "cell_type": "markdown",
   "id": "f41e4231",
   "metadata": {},
   "source": [
    "### All Clusters and Differences between them"
   ]
  },
  {
   "cell_type": "code",
   "execution_count": 57,
   "id": "dca56ca6",
   "metadata": {},
   "outputs": [
    {
     "name": "stdout",
     "output_type": "stream",
     "text": [
      "[['chrome 113'],\n",
      " ['chrome 114'],\n",
      " ['chrome 115'],\n",
      " ['chrome 116'],\n",
      " ['chrome 117'],\n",
      " ['chrome 118'],\n",
      " ['chrome 119'],\n",
      " ['chrome 120'],\n",
      " ['chrome 121', 'chrome 122'],\n",
      " ['firefox 115'],\n",
      " ['firefox 116'],\n",
      " ['firefox 117'],\n",
      " ['firefox 118'],\n",
      " ['firefox 119'],\n",
      " ['firefox 120'],\n",
      " ['firefox 121', 'firefox 122', 'firefox 123', 'firefox 124'],\n",
      " ['safari 16.1'],\n",
      " ['safari 16.2', 'safari 16.3'],\n",
      " ['safari 16.4'],\n",
      " ['safari 16.5', 'safari 16.6'],\n",
      " ['safari 17', 'safari 17.1'],\n",
      " ['safari 17.2', 'safari 17.3']]\n"
     ]
    }
   ],
   "source": [
    "pprint.pprint(pretty_clusters)"
   ]
  },
  {
   "cell_type": "code",
   "execution_count": 58,
   "id": "00619f36",
   "metadata": {},
   "outputs": [
    {
     "name": "stdout",
     "output_type": "stream",
     "text": [
      "\n",
      "['chrome 113'] -> ['chrome 114']\n",
      "+ {'popover-open', 'closed', 'shorthand_values', 'wrap', 'white-space-collapse', 'open', 'nowrap', 'text-wrap', 'popover', 'balance'}\n",
      "- {}\n",
      "\n",
      "['chrome 114'] -> ['chrome 115']\n",
      "+ {'animation-range-end', 'animation-timeline', 'view-timeline-inset', 'scroll-timeline-name', 'animation-range-start', 'scroll-timeline-axis', 'view-timeline-name', 'view-timeline', 'scroll', 'auto', 'scroll-timeline', 'multi-keyword_values', 'animation-range', 'view', 'named_range_keyframes', 'view-timeline-axis'}\n",
      "- {}\n",
      "\n",
      "['chrome 115'] -> ['chrome 116']\n",
      "+ {'offset-position', 'size', 'timeline-scope', 'basic-shape', 'offset-anchor', 'coord-box', 'normal', 'rect', 'xywh', 'url', 'keyframe_animatable', 'position', 'ray'}\n",
      "- {}\n",
      "\n",
      "['chrome 116'] -> ['chrome 117']\n",
      "+ {'subgrid', 'font-variant-position', 'auto_none', 'transition_behavior_value', 'cap', 'transitionable', 'rcap', 'pretty', 'overlay', 'transition-behavior', 'starting-style'}\n",
      "- {}\n",
      "\n",
      "['chrome 117'] -> ['chrome 118']\n",
      "+ {'scope', 'stroke-box', 'flow_relative_support', 'prefers-reduced-transparency', 'content-box', 'border-box', 'flow_relative_values'}\n",
      "- {}\n",
      "\n",
      "['chrome 118'] -> ['chrome 119']\n",
      "+ {'auto-phrase', 'user-invalid', 'user-valid', 'fill_and_stroke_box'}\n",
      "- {}\n",
      "\n",
      "['chrome 119'] -> ['chrome 120']\n",
      "+ {'mask-mode', 'mask-size', 'nesting', 'dir', 'fill-box', 'mask-composite', 'scripting', 'mask-repeat', 'mask-image', 'mask-position', 'mask-clip', 'mask-origin', 'view-box'}\n",
      "- {}\n",
      "\n",
      "['chrome 120'] -> ['chrome 121', 'chrome 122']\n",
      "+ {'grammar-error', 'scrollbar-color', 'spelling-error', 'scrollbar-width'}\n",
      "- {}\n",
      "\n",
      "['chrome 121', 'chrome 122'] -> ['firefox 115']\n",
      "+ {'animation-composition', 'baseline-source', 'supports'}\n",
      "- {'scroll-timeline-name', 'rcap', 'mask-image', 'keyframe_animatable', 'popover', 'named_range_keyframes', 'ray', 'animation-timeline', 'shorthand_values', 'subgrid', 'scope', 'fill-box', 'scroll-timeline-axis', 'mask-repeat', 'scripting', 'view-timeline-name', 'content-box', 'balance', 'flow_relative_values', 'cap', 'transition_behavior_value', 'animation-range-start', 'scrollbar-color', 'wrap', 'linear-function', 'scroll-timeline', 'scrollbar-width', 'image-set', 'transitionable', 'coord-box', 'view-timeline', 'overlay', 'multi-keyword_values', 'animation-range', 'spelling-error', 'position', 'border-box', 'offset-position', 'size', 'grammar-error', 'closed', 'font-variant-position', 'flow_relative_support', 'white-space-collapse', 'pretty', 'overflow-inline', 'auto', 'xywh', 'fill_and_stroke_box', 'url', 'overflow-block', 'view-timeline-axis', 'animation-range-end', 'popover-open', 'mask-size', 'stroke-box', 'mask-composite', 'user-invalid', 'mask-clip', 'transition-behavior', 'rect', 'view', 'mask-mode', 'nesting', 'auto_none', 'view-timeline-inset', 'basic-shape', 'offset-anchor', 'prefers-reduced-transparency', 'user-valid', 'nowrap', 'mask-position', 'mask-origin', 'text-wrap', 'starting-style', 'dir', 'timeline-scope', 'open', 'auto-phrase', 'scroll', 'update', 'view-box', 'normal'}\n",
      "\n",
      "['firefox 115'] -> ['firefox 116']\n",
      "+ {'first'}\n",
      "- {}\n",
      "\n",
      "['firefox 116'] -> ['firefox 117']\n",
      "+ {'nesting', 'auto_none', 'math-depth', 'math', 'math-style'}\n",
      "- {}\n",
      "\n",
      "['firefox 117'] -> ['firefox 118']\n",
      "+ {'hypot', 'exp', 'round', 'mod', 'rem', 'sqrt', 'abs', 'font-synthesis-position', 'sign', 'position', 'from-font', 'pow', 'log'}\n",
      "- {}\n",
      "\n",
      "['firefox 118'] -> ['firefox 119']\n",
      "+ {'fallback'}\n",
      "- {}\n",
      "\n",
      "['firefox 119'] -> ['firefox 120']\n",
      "+ {'rlh', 'light-dark', 'lh'}\n",
      "- {}\n",
      "\n",
      "['firefox 120'] -> ['firefox 121', 'firefox 122', 'firefox 123', 'firefox 124']\n",
      "+ {'hanging', 'has', 'stable', 'each-line', 'text-wrap', 'balance'}\n",
      "- {}\n",
      "\n",
      "['firefox 121', 'firefox 122', 'firefox 123', 'firefox 124'] -> ['safari 16.1']\n",
      "+ set()\n",
      "- {'math-depth', 'rem', 'sqrt', 'animation-composition', 'first', 'rlh', 'from-font', 'pow', 'supports', 'hypot', 'sign', 'balance', 'hanging', 'has', 'nesting', 'auto_none', 'stable', 'round', 'mod', 'light-dark', 'each-line', 'abs', 'text-wrap', 'exp', 'math', 'lh', 'font-synthesis-position', 'fallback', 'math-style', 'baseline-source', 'position', 'log'}\n",
      "\n",
      "['safari 16.1'] -> ['safari 16.2', 'safari 16.3']\n",
      "+ {'styleset', 'swash', 'annotation', 'ornaments', 'stylistic', 'color-mix', 'character_variant'}\n",
      "- {}\n",
      "\n",
      "['safari 16.2', 'safari 16.3'] -> ['safari 16.4']\n",
      "+ {'fullscreen', 'margin-trim', '-moz-dir', 'xxx-large', 'font-size-adjust', 'inherits', 'font-synthesis-weight', ':-moz-full-screen', '-moz-outline', 'font-synthesis-style', 'property', 'lh', 'range_syntax', 'initial-value', 'rlh', 'syntax', 'or_syntax', 'font-synthesis-small-caps'}\n",
      "- {}\n",
      "\n",
      "['safari 16.4'] -> ['safari 16.5', 'safari 16.6']\n",
      "+ {':-moz-ui-invalid', ':-moz-ui-valid', 'nesting'}\n",
      "- {}\n",
      "\n",
      "['safari 16.5', 'safari 16.6'] -> ['safari 17', 'safari 17.1']\n",
      "+ {'full-size-kana', 'suffix', 'contain-intrinsic-height', 'contain-intrinsic-inline-size', 'overflow-inline', 'counter-style', 'font-format', '-moz-hyphens', 'url', 'popover', 'overflow-block', 'from-font', 'contain-intrinsic-size', '-moz-list-style-type', 'popover-open', 'prefix', 'additive-symbols', 'symbols', 'size-adjust', 'font-tech', 'scripting', 'system', 'two-values', 'auto_none', 'negative', 'full-width', 'range', 'pad', 'contain-intrinsic-block-size', 'contain-intrinsic-width', '-webkit-hyphenate-character', 'fallback', 'update'}\n",
      "- {}\n",
      "\n",
      "['safari 17', 'safari 17.1'] -> ['safari 17.2', 'safari 17.3']\n",
      "+ {'highlight', '-webkit-mask-box-image-width', 'counter-set', '-webkit-mask-box-image-outset', '-webkit-mask-box-image-slice', 'cap', 'rex', '-webkit-mask-box-image-source', '-webkit-mask-box-image', 'rcap', 'ric', 'linear-function', '-webkit-mask-box-image-repeat', 'rect', 'xywh', 'rch'}\n",
      "- {}\n"
     ]
    }
   ],
   "source": [
    "previous_cluster = pretty_clusters[0]\n",
    "browser, release = previous_cluster[0].split(\" \")\n",
    "previous_features = set(browser_to_release_to_features[browser][release])\n",
    "for cluster in pretty_clusters[1:]:\n",
    "    browser, release = cluster[0].split(\" \")\n",
    "    features = set(browser_to_release_to_features[browser][release])\n",
    "    additions = features - previous_features\n",
    "    removals = previous_features - features\n",
    "\n",
    "    print(f\"\\n{previous_cluster} -> {cluster}\")\n",
    "    print(\"+ \" + str(additions))\n",
    "    print(\"- \" + (str(removals) if len(removals) > 0 else \"{}\"))\n",
    "\n",
    "    # update\n",
    "    previous_cluster = cluster\n",
    "    previous_features = features\n"
   ]
  },
  {
   "cell_type": "markdown",
   "id": "f5e6c1d4",
   "metadata": {},
   "source": [
    "### Unique Browser Releases"
   ]
  },
  {
   "cell_type": "code",
   "execution_count": 59,
   "metadata": {},
   "outputs": [
    {
     "name": "stdout",
     "output_type": "stream",
     "text": [
      "16 / 30 = 0.5333333333333333\n",
      "[('firefox 120',),\n",
      " ('chrome 115',),\n",
      " ('chrome 120',),\n",
      " ('chrome 118',),\n",
      " ('safari 16.4',),\n",
      " ('chrome 119',),\n",
      " ('firefox 117',),\n",
      " ('firefox 115',),\n",
      " ('chrome 117',),\n",
      " ('safari 16.1',),\n",
      " ('chrome 116',),\n",
      " ('chrome 113',),\n",
      " ('chrome 114',),\n",
      " ('firefox 118',),\n",
      " ('firefox 119',),\n",
      " ('firefox 116',)]\n",
      "[('safari 17.3', 'safari 17.2'),\n",
      " ('chrome 121', 'chrome 122'),\n",
      " ('safari 17.1', 'safari 17'),\n",
      " ('safari 16.5', 'safari 16.6'),\n",
      " ('firefox 123', 'firefox 124', 'firefox 121', 'firefox 122'),\n",
      " ('safari 16.2', 'safari 16.3')]\n"
     ]
    }
   ],
   "source": [
    "print(f\"{len(list(filter(lambda x: len(x) == 1, clusters)))} / {sum(map(lambda x: len(x), clusters))} = {len(list(filter(lambda x: len(x) == 1, clusters))) / sum(map(lambda x: len(x), clusters))}\")\n",
    "pprint.pprint(list(filter(lambda x: len(x) == 1, clusters)))\n",
    "pprint.pprint(list(filter(lambda x: len(x) != 1, clusters)))"
   ]
  },
  {
   "cell_type": "markdown",
   "id": "ab8d141b",
   "metadata": {},
   "source": [
    "### Diff of two releases"
   ]
  },
  {
   "cell_type": "code",
   "execution_count": 60,
   "id": "5a645fcf",
   "metadata": {},
   "outputs": [
    {
     "name": "stdout",
     "output_type": "stream",
     "text": [
      "\n",
      "chrome 121 -> firefox 122\n",
      "+ {'rcap', 'animation-timeline', 'shorthand_values', 'scroll-timeline-axis', 'view-timeline-name', 'content-box', 'transition_behavior_value', 'animation-range-start', 'wrap', 'linear-function', 'scrollbar-width', 'view-timeline', 'spelling-error', 'offset-position', 'grammar-error', 'font-variant-position', 'white-space-collapse', 'overflow-inline', 'fill_and_stroke_box', 'view-timeline-axis', 'popover-open', 'mask-size', 'rect', 'mask-mode', 'offset-anchor', 'prefers-reduced-transparency', 'user-valid', 'dir', 'open', 'auto-phrase', 'scroll', 'update', 'normal', 'scroll-timeline-name', 'mask-image', 'popover', 'keyframe_animatable', 'ray', 'subgrid', 'scope', 'fill-box', 'mask-repeat', 'scripting', 'flow_relative_values', 'cap', 'scrollbar-color', 'scroll-timeline', 'image-set', 'transitionable', 'coord-box', 'overlay', 'multi-keyword_values', 'animation-range', 'border-box', 'size', 'closed', 'flow_relative_support', 'pretty', 'auto', 'xywh', 'url', 'overflow-block', 'animation-range-end', 'stroke-box', 'mask-composite', 'user-invalid', 'mask-clip', 'transition-behavior', 'view', 'view-timeline-inset', 'basic-shape', 'nowrap', 'mask-position', 'mask-origin', 'starting-style', 'timeline-scope', 'view-box', 'named_range_keyframes'}\n",
      "- {'math-depth', 'rem', 'sqrt', 'animation-composition', 'first', 'rlh', 'from-font', 'pow', 'supports', 'hypot', 'sign', 'hanging', 'has', 'stable', 'round', 'mod', 'light-dark', 'each-line', 'abs', 'exp', 'math', 'lh', 'font-synthesis-position', 'fallback', 'math-style', 'baseline-source', 'log'}\n",
      "105\n"
     ]
    }
   ],
   "source": [
    "repr_a, repr_b = \"chrome 121\", \"firefox 122\" # latest on windows 11\n",
    "browser_a, release_a = repr_a.split(\" \")\n",
    "browser_b, release_b = repr_b.split(\" \")\n",
    "\n",
    "features_a = set(browser_to_release_to_features[browser_a][release_a])\n",
    "features_b = set(browser_to_release_to_features[browser_b][release_b])\n",
    "additions = features_a - features_b\n",
    "removals = features_b - features_a\n",
    "\n",
    "print(f\"\\n{repr_a} -> {repr_b}\")\n",
    "print(\"+ \" + (str(additions) if len(additions) > 0 else \"{}\"))\n",
    "print(\"- \" + (str(removals) if len(removals) > 0 else \"{}\"))\n",
    "print(len(additions) + len(removals))\n"
   ]
  },
  {
   "cell_type": "markdown",
   "id": "bfa9b58c",
   "metadata": {},
   "source": [
    "### Meta"
   ]
  },
  {
   "cell_type": "code",
   "execution_count": 61,
   "id": "5e459f6d",
   "metadata": {},
   "outputs": [
    {
     "name": "stdout",
     "output_type": "stream",
     "text": [
      "Number of Skips: 84\n"
     ]
    }
   ],
   "source": [
    "print(f\"Number of Skips: {skips}\")"
   ]
  },
  {
   "cell_type": "code",
   "execution_count": 62,
   "id": "74820b3d",
   "metadata": {},
   "outputs": [
    {
     "name": "stdout",
     "output_type": "stream",
     "text": [
      "39\n",
      "{'-moz-submit-invalid',\n",
      " 'OpenType_COLRv1',\n",
      " 'align-tracks',\n",
      " 'animation-timeline',\n",
      " 'basic-shape',\n",
      " 'color-contrast',\n",
      " 'content-visibility',\n",
      " 'coord-box',\n",
      " 'fit-content_function',\n",
      " 'font-variant-emoji',\n",
      " 'inverted-colors',\n",
      " 'justify-tracks',\n",
      " 'line-height-step',\n",
      " 'masonry',\n",
      " 'none_applies_to_elements',\n",
      " 'normal',\n",
      " 'number_value',\n",
      " 'offset-position',\n",
      " 'popover',\n",
      " 'popover-open',\n",
      " 'position',\n",
      " 'prefers-reduced-data',\n",
      " 'prefers-reduced-transparency',\n",
      " 'ray',\n",
      " 'rect',\n",
      " 'scroll',\n",
      " 'scroll-timeline',\n",
      " 'scroll-timeline-axis',\n",
      " 'scroll-timeline-name',\n",
      " 'scrollbar-gutter',\n",
      " 'size',\n",
      " 'text-justify',\n",
      " 'url',\n",
      " 'video-dynamic-range',\n",
      " 'view',\n",
      " 'view-timeline',\n",
      " 'view-timeline-axis',\n",
      " 'view-timeline-name',\n",
      " 'xywh'}\n"
     ]
    }
   ],
   "source": [
    "print(len(flag_features))\n",
    "pprint.pprint(flag_features)"
   ]
  }
 ],
 "metadata": {
  "kernelspec": {
   "display_name": "Python 3",
   "language": "python",
   "name": "python3"
  },
  "language_info": {
   "codemirror_mode": {
    "name": "ipython",
    "version": 3
   },
   "file_extension": ".py",
   "mimetype": "text/x-python",
   "name": "python",
   "nbconvert_exporter": "python",
   "pygments_lexer": "ipython3",
   "version": "3.8.10"
  }
 },
 "nbformat": 4,
 "nbformat_minor": 5
}
